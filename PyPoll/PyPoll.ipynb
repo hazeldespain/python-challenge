{
 "cells": [
  {
   "cell_type": "code",
   "execution_count": null,
   "metadata": {},
   "outputs": [],
   "source": [
    "import csv\n",
    "import os"
   ]
  },
  {
   "cell_type": "code",
   "execution_count": null,
   "metadata": {},
   "outputs": [],
   "source": [
    "poll_csv = os.path.join(\"election_data.csv\")"
   ]
  },
  {
   "cell_type": "code",
   "execution_count": null,
   "metadata": {},
   "outputs": [],
   "source": [
    "#csv reader\n",
    "with open(poll_csv, newline='') as csvfile:\n",
    "    csvreader = csv.reader(csvfile, delimiter=',')\n",
    "    #exclude header\n",
    "    csv_header = next(csvreader)\n",
    "    #define variables\n",
    "    total = 0\n",
    "    candidates = []\n",
    "    #loop through csv for total votes, list of candidates, % of votes \n",
    "        #per candidate, total number of votes per candidate, winner\n",
    "    for row in csvreader:\n",
    "        # The total number of votes cast\n",
    "        total = (total + 1)\n",
    "        print(total)\n",
    "        # A complete list of candidates who received votes\n",
    "        from collections import Counter\n",
    "        candidates = [row[2]]\n",
    "        # The total number of votes each candidate won\n",
    "        Khan_votes = print(candidates.count(\"Khan\")) \n",
    "        Correy_votes = print(candidates.count(\"Correy\"))\n",
    "        Li_votes = print(candidates.count(\"Li\"))\n",
    "        OTooley_votes = print(candidates.count(\"O'Tooley\"))\n",
    "        print(f\"Khan Total Votes:{Khan_votes}\")\n",
    "        print(f\"Correy Total Votes:{Correy_votes}\")\n",
    "        print(f\"Li Total Votes:{Li_votes}\")\n",
    "        print(f\"O'Tooley Total Votes:{OTooley_votes}\")\n",
    "        #The total number of votes each candidate won\n",
    "        Khan_percent = Khan_votes/total\n",
    "        Correy_percent = Correy_votes/total\n",
    "        Li_percent = Li_votes/total\n",
    "        OTooley_percent = OTooley_votes/total\n",
    "        print(f\"Khan Percent of Votes:{Khan_percent}\")\n",
    "        print(f\"Correy Percent of Votes:{Correy_percent}\")\n",
    "        print(f\"Li Percent of Votes:{Li_percent}\")\n",
    "        print(f\"O'Tooley Percent of Votes:{OTooley_percent}\")\n",
    "        #The winner of the election based on popular vote.\n",
    "        winner_result = ({Khan_percent, Correy_percent, Li_percent, OTooley_percent}).max\n",
    "        print(winner_result)\n",
    "        \n",
    "    \n",
    "    print(\"\"\"text\n",
    "Election Results\n",
    "__________________\"\"\")\n",
    "    (f\" Total Votes:{total}\")\n",
    "print(\"\"\"\n",
    "______________________\n",
    "\"\"\")\n",
    "    (f\" Khan:{Khan_percent}%,{(Khan_votes)}\")\n",
    "    (f\" Correy:{Correy_percent}%,{(Correy_votes)}\")\n",
    "    (f\" Li:{Li_percent}%,{(Li_votes)}\")\n",
    "    (f\" O'Tooley:{OTooley_percent}%,{(OTooley_votes)}\")\n",
    "print(\"\"\"\n",
    "______________________\n",
    "\"\"\")\n",
    "    (f\"Winner{winner_result}\")\n",
    "print(\"\"\"\n",
    "______________________\n",
    "\"\"\")"
   ]
  },
  {
   "cell_type": "code",
   "execution_count": null,
   "metadata": {},
   "outputs": [],
   "source": [
    "#not working...\n",
    "#output into a text file\n",
    "output_path = os.path.join(\"poll_output.csv\")\n",
    "\n",
    "with open('election_data.csv', 'w', newline='') as csvfile:\n",
    "    text_file= csv.writer(csvfile)\n",
    "    text_file.writerows(csvreader)"
   ]
  }
 ],
 "metadata": {
  "kernelspec": {
   "display_name": "Conda [PythonData]",
   "language": "python",
   "name": "pythondata"
  },
  "language_info": {
   "codemirror_mode": {
    "name": "ipython",
    "version": 3
   },
   "file_extension": ".py",
   "mimetype": "text/x-python",
   "name": "python",
   "nbconvert_exporter": "python",
   "pygments_lexer": "ipython3",
   "version": "3.7.3"
  }
 },
 "nbformat": 4,
 "nbformat_minor": 2
}
