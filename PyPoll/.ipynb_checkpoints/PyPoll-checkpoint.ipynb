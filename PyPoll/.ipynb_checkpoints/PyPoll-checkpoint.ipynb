{
 "cells": [
  {
   "cell_type": "code",
   "execution_count": null,
   "metadata": {},
   "outputs": [],
   "source": [
    "# Your task is to create a Python script that analyzes the \n",
    "# votes and calculates each of the following:\n",
    "\n",
    "\n",
    "\n",
    "\n",
    "\n",
    "#   * The percentage of votes each candidate won\n",
    "\n",
    "#   * The total number of votes each candidate won\n",
    "\n",
    "#   * The winner of the election based on popular vote."
   ]
  },
  {
   "cell_type": "code",
   "execution_count": 1,
   "metadata": {},
   "outputs": [],
   "source": [
    "import csv\n",
    "import os"
   ]
  },
  {
   "cell_type": "code",
   "execution_count": null,
   "metadata": {},
   "outputs": [],
   "source": [
    "poll_csv = os.path.join(\"election_data.csv\")"
   ]
  },
  {
   "cell_type": "code",
   "execution_count": null,
   "metadata": {},
   "outputs": [],
   "source": [
    "#csv reader\n",
    "with open(poll_csv, newline='') as csvfile:\n",
    "    csvreader = csv.reader(csvfile, delimiter=',')\n",
    "    #exclude header\n",
    "    csv_header = next(csvreader)\n",
    "    #define variables\n",
    "    total = 0\n",
    "    candidates = []\n",
    "    #loop through csv for total votes, list of candidates, % of votes\n",
    "        #per candidate, total number of votes per candidate, winner\n",
    "    for row in csvreader:\n",
    "        # The total number of votes cast\n",
    "        total = (total + 1)\n",
    "        print(total)\n",
    "        # A complete list of candidates who received votes\n",
    "        from collections import Counter\n",
    "        candidates = [row[2]]\n",
    "        print(candidates.count(\"Khan\")) \n",
    "#         c = [\"Khan\",\"Correy\",\"Li\",\"O'Tooley\"]\n",
    "#         c.count(\"Khan\")\n",
    "#         c.count(\"Correy\")\n",
    "#         c.count(\"Li\")\n",
    "#         c.count(\"O'Tooley\")\n",
    "        \n",
    "        \n",
    "# \"\"\"text\n",
    "# Election Results\n",
    "# __________________\"\"\"\n",
    "# (f\" Total Votes:{total}\")\n",
    "# \"\"\"\n",
    "# ______________________\n",
    "# \"\"\"\n",
    "# (f\" Khan:{percent_votes}%,{(vote_count)}\")\n",
    "# (f\" Correy:{percent_votes}%,{(vote_count)}\")\n",
    "# (f\" Li:{percent_votes}%,{(vote_count)}\")\n",
    "# (f\" O'Tooley:{percent_votes}%,{(vote_count)}\")\n",
    "# \"\"\"\n",
    "# ______________________\n",
    "# \"\"\"\n",
    "# (f\"Winner{winner_result}\")\n",
    "# \"\"\"\n",
    "# ______________________\n",
    "# \"\"\""
   ]
  },
  {
   "cell_type": "code",
   "execution_count": null,
   "metadata": {},
   "outputs": [],
   "source": [
    "# * As an example, your analysis should look similar to the one below:\n",
    "\n",
    "#   ```text\n",
    "#   Election Results\n",
    "#   -------------------------\n",
    "#   Total Votes: 3521001\n",
    "#   -------------------------\n",
    "#   Khan: 63.000% (2218231)\n",
    "#   Correy: 20.000% (704200)\n",
    "#   Li: 14.000% (492940)\n",
    "#   O'Tooley: 3.000% (105630)\n",
    "#   -------------------------\n",
    "#   Winner: Khan\n",
    "#   -------------------------"
   ]
  }
 ],
 "metadata": {
  "kernelspec": {
   "display_name": "Conda [PythonData]",
   "language": "python",
   "name": "pythondata"
  }
 },
 "nbformat": 4,
 "nbformat_minor": 2
}
