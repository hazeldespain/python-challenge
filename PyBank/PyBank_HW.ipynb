{
 "cells": [
  {
   "cell_type": "code",
   "execution_count": 8,
   "metadata": {},
   "outputs": [],
   "source": [
    "import os\n",
    "import csv"
   ]
  },
  {
   "cell_type": "code",
   "execution_count": 9,
   "metadata": {},
   "outputs": [],
   "source": [
    "#connect to csv file - already in same folder\n",
    "budget_csv = os.path.join(\"budget_data.csv\")"
   ]
  },
  {
   "cell_type": "code",
   "execution_count": 28,
   "metadata": {},
   "outputs": [
    {
     "name": "stdout",
     "output_type": "stream",
     "text": [
      "text\n",
      "Financial Analysis\n",
      "_____________________________\n",
      "Total Months: 86\n",
      "Total:$38,382,578\n",
      "Average Change:446310.0465116279\n",
      "Greatest Increase in Profits:Feb-2012, $1,170,594\n",
      "Greatest Decrease in Profits:Sep-2013, $-1,196,224\n"
     ]
    }
   ],
   "source": [
    "## csv reader\n",
    "with open(budget_csv, newline='') as csvfile:\n",
    "    \n",
    "    csvreader = csv.reader(csvfile, delimiter=',')\n",
    "    #exclude header\n",
    "    csv_header = next(csvreader)\n",
    "    #define variables\n",
    "    total = 0\n",
    "    months = 0\n",
    "    change = 0\n",
    "    change_list = []\n",
    "    date_list = []\n",
    "    #loop through csv for total, months, and delta\n",
    "    for row in csvreader:\n",
    "        row[1] = int(row[1])\n",
    "        total = total + int(row[1])\n",
    "        months = months + 1\n",
    "        #conditional to get delta \n",
    "        if row[1]>= (row[1]+1):\n",
    "            change = (row[1])\n",
    "            date = row[0]\n",
    "        elif row[1]<= (row[1]+1):\n",
    "            change = (row[1]+1)\n",
    "            date = row[0]\n",
    "        #append to list so you can use functions\n",
    "        change_list.append(change)\n",
    "        date_list.append(date)\n",
    "                \n",
    "    #calculate increase/decrease/average delta\n",
    "    greatest_incr = max(change_list)\n",
    "    greatest_decr = min(change_list)\n",
    "    average_pl = sum(change_list)/len(change_list)\n",
    "    a1 = change_list.index(greatest_incr)\n",
    "    a2 = change_list.index(greatest_decr)\n",
    "    date_g = date_list[a1]\n",
    "    date_d = date_list[a2]\n",
    "    \n",
    "    \n",
    "    print(\"\"\"text\n",
    "Financial Analysis\n",
    "_____________________________\"\"\")\n",
    "    print(f\"Total Months: {months}\")\n",
    "    print(f\"Total:${total:,}\")\n",
    "    print(f\"Average Change:{average_pl}\")\n",
    "    print(f\"Greatest Increase in Profits:{date_g}, ${greatest_incr:,}\")\n",
    "    print(f\"Greatest Decrease in Profits:{date_d}, ${greatest_decr:,}\")"
   ]
  },
  {
   "cell_type": "code",
   "execution_count": 34,
   "metadata": {
    "scrolled": true
   },
   "outputs": [],
   "source": [
    "#not working...\n",
    "#output into a text file\n",
    "output_path = os.path.join(\"budget_output.csv\")\n",
    "\n",
    "with open('budget_output.csv', 'w', newline='') as csvfile:\n",
    "    text_file= csv.writer(csvfile)\n",
    "    text_file.writerows(budget_csv)"
   ]
  }
 ],
 "metadata": {
  "kernelspec": {
   "display_name": "Conda [PythonData]",
   "language": "python",
   "name": "pythondata"
  },
  "language_info": {
   "codemirror_mode": {
    "name": "ipython",
    "version": 3
   },
   "file_extension": ".py",
   "mimetype": "text/x-python",
   "name": "python",
   "nbconvert_exporter": "python",
   "pygments_lexer": "ipython3",
   "version": "3.7.3"
  }
 },
 "nbformat": 4,
 "nbformat_minor": 2
}
